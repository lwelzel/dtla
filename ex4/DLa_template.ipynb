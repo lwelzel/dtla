{
 "cells": [
  {
   "cell_type": "markdown",
   "metadata": {},
   "source": [
    "This Python notebook is meant to help you with Exercise 4 in the Detection of Light course. This shows how to load in a fits file, how to save a file in a npy array, and offer some useful functions that can help. If there are any questions, please e-mail Thijs at stockmans[at]strw.leidenuniv.nl\n",
    "\n",
    "Based on DOL_template.py that was\n",
    "Created:   Wendy Williams 20/10/2012\n",
    "Edited by: Michael Wilby  11/03/2015\n",
    "           Patrick Dorval 20/03/2020\n",
    "           \n"
   ]
  },
  {
   "cell_type": "code",
   "execution_count": 2,
   "metadata": {},
   "outputs": [],
   "source": [
    "#First you will need to import the modules we will need\n",
    "from astropy.io import fits  # astropy for the fits handling \n",
    "import numpy as np   # numpy for the arrays\n",
    "import os\n",
    "import matplotlib.pyplot as plt #For the plotting\n"
   ]
  },
  {
   "cell_type": "code",
   "execution_count": null,
   "metadata": {},
   "outputs": [],
   "source": [
    "# ****************** NOTE **********************\n",
    "# Python indices always start counting at zero\n",
    "# an array of 128 pixels has indices from 0 - 127\n",
    "# ***********************************************\n",
    "# =========== Some useful Python methods ================\n",
    "# range\n",
    "# Python builtin method\n",
    "# returns an integer array with the specified dimensions.\n",
    "# Example:  vec = range(5) returns [0,1,2,3,4]\n",
    "# ---------\n",
    "# print\n",
    "# prints output to the standard output device\n",
    "# Example: print 'The median value is:', x\n",
    "# ---------\n",
    "# FOR-loop  [FOR ...: ]\n",
    "# Note that the whitespace is very important in Python (there are no begin or end statements)\n",
    "# ...and it makes for more readable code\n",
    "# Simple way to reformat arrays (although not very elegant)\n",
    "# Example:  we reformat a square 10x10 pixel array into a string of 100x1 pixels\n",
    "# for j in range(10):\n",
    "#   for i in range(10):\n",
    "#     imlong[i+j*10]= imsquare[i,j]\n",
    "#   # end for i #\n",
    "# # end for j #\n",
    "# ---------\n",
    "# np.sin(array)\n",
    "# return the sine of all the elements of the array (input in radians)\n",
    "# also cos, tan, log, log10, exp, etc...\n",
    "# ---------\n",
    "# np.zeros(shape)\n",
    "# Return a new array of given shape and type, filled with zeros.\n",
    "# can be used to initialise an empty array\n",
    "# Example:  im = np.zeros(128)  creates a vector of length 128 \n",
    "# Example:  im = np.zeros((128,128))  creates a 128x128 array\n",
    "# Example:  im = np.zeros((128,128,3))  creates a 128x128x3 cube\n",
    "# See also: ones\n",
    "# ---------\n",
    "# np.median\n",
    "# returns the median value of an array \n",
    "# Example: x = np.median(im[:,5]) computes the median of all pixel values\n",
    "# of array im along the 5th column\n",
    "# ---------\n",
    "# np.sum\n",
    "# returns the sum of the elements of an array.\n",
    "# Example: x = np.sum(range(5)) sums up the vector [0,1,2,3,4] = 10\n",
    "# Example: im = np.sum(im,axis=0) sums up along the axis given\n",
    "# --------- "
   ]
  },
  {
   "cell_type": "code",
   "execution_count": 7,
   "metadata": {},
   "outputs": [],
   "source": [
    "#The files are in fits format, we can use astropy.io to open them\n",
    "#As an example, to open the files for question 1 in this exercise\n",
    "\n",
    "data_q1 = fits.open('image1_2021.fits')[0].data #The data\n",
    "head = fits.getheader('image1_2021.fits')  # we don't really need this now\n",
    "\n",
    "#Make sure that this code and the fits file are in the same folder!\n",
    "\n",
    "# do something to the data\n",
    "data_invert = data_q1.transpose()\n",
    "data_invert = data_invert*2.\n",
    "\n",
    "# write it back to a fits file\n",
    "fits.writeto('image1_2021_outexample.fits', data_invert, header=head, overwrite=True)"
   ]
  },
  {
   "cell_type": "code",
   "execution_count": 11,
   "metadata": {},
   "outputs": [
    {
     "data": {
      "image/png": "[encoded data removed]",
      "text/plain": [
       "<Figure size 432x288 with 1 Axes>"
      ]
     },
     "metadata": {
      "needs_background": "light"
     },
     "output_type": "display_data"
    }
   ],
   "source": [
    "# One example of how to plot something using python\n",
    "\n",
    "x = np.arange(0, 2.*np.pi, np.pi/1000)\n",
    "# arange is like range, but works for floats = array from  0 to 2pi in steps of pi/1000\n",
    "\n",
    "y = 5. + 0.5*x*np.sin(x)\n",
    "\n",
    "x2 = np.arange(0, 2.*np.pi, np.pi/20)\n",
    "y2= 5. + 0.5*x2*np.sin( x2 )\n",
    "\n",
    "plt.plot( x, y, 'k', label='line' )  # plot in black\n",
    "plt.plot( x2, y2, 'go', label='points' ) # plot with green circles\n",
    "plt.legend()\n",
    "plt.xlabel( '$x$' )  # LaTeX!\n",
    "plt.ylabel( '$f(x)$' )\n",
    "plt.title( 'Some function of x' )\n",
    "plt.savefig( 'dummyplot.png' )"
   ]
  }
 ],
 "metadata": {
  "kernelspec": {
   "display_name": "Python 3",
   "language": "python",
   "name": "python3"
  },
  "language_info": {
   "codemirror_mode": {
    "name": "ipython",
    "version": 3
   },
   "file_extension": ".py",
   "mimetype": "text/x-python",
   "name": "python",
   "nbconvert_exporter": "python",
   "pygments_lexer": "ipython3",
   "version": "3.8.5"
  }
 },
 "nbformat": 4,
 "nbformat_minor": 2
}
